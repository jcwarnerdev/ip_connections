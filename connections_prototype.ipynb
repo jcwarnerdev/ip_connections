{
 "cells": [
  {
   "cell_type": "code",
   "execution_count": null,
   "metadata": {},
   "outputs": [],
   "source": [
    "import psutil\n",
    "import pandas as pd\n",
    "import re\n",
    "import requests\n",
    "import json\n",
    "import gmaps\n",
    "import gmaps.datasets"
   ]
  },
  {
   "cell_type": "code",
   "execution_count": null,
   "metadata": {},
   "outputs": [],
   "source": [
    "googleAPIKey = '' #add google api key here\n",
    "token_str = '' #replace xxxxx with ipInfo api token"
   ]
  },
  {
   "cell_type": "code",
   "execution_count": null,
   "metadata": {},
   "outputs": [],
   "source": [
    "privIP = re.compile(\"^(?:10|127|172\\.(?:1[6-9]|2[0-9]|3[01])|192\\.168)\\..*\")\n",
    "priv6 = re.compile(\"::1\")\n",
    "url_str = 'https://ipinfo.io/'\n",
    "netstat = pd.DataFrame(columns=['status', 'pid', 'local_ip', 'local_port', 'remote_ip', 'remote_port'])\n",
    "con = psutil.net_connections()\n",
    "s_list = []\n",
    "for item in con:\n",
    "    try:\n",
    "        if not re.search(privIP, item.raddr.ip) and not re.search(priv6, item.raddr.ip):\n",
    "            data = {'status':item.status, 'pid':item.pid, 'local_ip':item.laddr.ip, 'local_port': item.laddr.port, 'remote_ip':item.raddr.ip, 'remote_port':item.raddr.port}\n",
    "            s = pd.Series(data)\n",
    "            s_list.append(s)\n",
    "    except:\n",
    "        pass\n",
    "netstat = pd.DataFrame(s_list)\n",
    "data = []\n",
    "for ip in netstat.remote_ip:\n",
    "    res = (json.loads(requests.get(url_str + ip + '?token=' + token_str).text))\n",
    "    data.append(res)\n",
    "ipInfo = pd.json_normalize(data)\n",
    "# Iterate over all running process\n",
    "data = []\n",
    "for proc in psutil.process_iter():\n",
    "    try:\n",
    "        res = {'process_name':proc.name(), 'pid':proc.pid}\n",
    "        data.append(res)\n",
    "    except (psutil.NoSuchProcess, psutil.AccessDenied, psutil.ZombieProcess):\n",
    "        pass\n",
    "processes = pd.json_normalize(data)\n",
    "mergedf = pd.merge(netstat, ipInfo.rename(columns={'ip':'remote_ip'}), how='outer')\n",
    "mergedf = pd.merge(mergedf, processes, how='outer')\n",
    "processConnections = mergedf[mergedf.remote_ip.notnull()]\n",
    "gmaps.configure(api_key=googleAPIKey)\n",
    "locList = list(mergedf['loc'].dropna())\n",
    "\n",
    "locations = []\n",
    "for i, loc in enumerate(locList):\n",
    "    listloc = loc.split(',')\n",
    "    lat = float(listloc[0])\n",
    "    lon = float(listloc[1])\n",
    "    locations.append(tuple([lat, lon]))\n",
    "\n",
    "fig = gmaps.figure()\n",
    "marker_layer = gmaps.marker_layer(locations)\n",
    "fig.add_layer(marker_layer)\n",
    "fig"
   ]
  },
  {
   "cell_type": "code",
   "execution_count": null,
   "metadata": {
    "scrolled": true
   },
   "outputs": [],
   "source": [
    "pd.set_option('display.max_rows', None)\n",
    "processConnections"
   ]
  }
 ],
 "metadata": {
  "kernelspec": {
   "display_name": "Python 3",
   "language": "python",
   "name": "python3"
  },
  "language_info": {
   "codemirror_mode": {
    "name": "ipython",
    "version": 3
   },
   "file_extension": ".py",
   "mimetype": "text/x-python",
   "name": "python",
   "nbconvert_exporter": "python",
   "pygments_lexer": "ipython3",
   "version": "3.10.4"
  }
 },
 "nbformat": 4,
 "nbformat_minor": 4
}
