{
 "cells": [
  {
   "cell_type": "code",
   "execution_count": null,
   "metadata": {},
   "outputs": [],
   "source": [
    "import psutil\n",
    "import pandas\n",
    "import re\n",
    "import requests\n",
    "import json\n",
    "import os\n",
    "import psutil\n",
    "import gmaps\n",
    "import gmaps.datasets\n",
    "import math"
   ]
  },
  {
   "cell_type": "code",
   "execution_count": null,
   "metadata": {},
   "outputs": [],
   "source": [
    "privIP = re.compile(\"^(?:10|127|172\\.(?:1[6-9]|2[0-9]|3[01])|192\\.168)\\..*\")\n",
    "priv6 = re.compile(\"::1\")\n",
    "url_str = 'https://ipinfo.io/'\n",
    "token_str = '?token=xxxxxxxx' #replace xxxxx with ipInfo api token"
   ]
  },
  {
   "cell_type": "code",
   "execution_count": null,
   "metadata": {},
   "outputs": [],
   "source": [
    "netstat = pandas.DataFrame(columns=['status', 'pid', 'local_ip', 'local_port', 'remote_ip', 'remote_port'])\n",
    "con = psutil.net_connections()\n",
    "for item in con:\n",
    "    try:\n",
    "        if not re.search(privIP, item.raddr.ip) and not re.search(priv6, item.raddr.ip):\n",
    "            #print(item.status, item.pid, item.laddr.ip, item.laddr.port, item.raddr.ip, item.raddr.port)\n",
    "            data = {'status':item.status, 'pid':item.pid, 'local_ip':item.laddr.ip, 'local_port': item.laddr.port, 'remote_ip':item.raddr.ip, 'remote_port':item.raddr.port}\n",
    "            s = pandas.Series(data)\n",
    "            netstat = netstat.append(s, ignore_index=True)\n",
    "    except:\n",
    "        pass"
   ]
  },
  {
   "cell_type": "code",
   "execution_count": null,
   "metadata": {},
   "outputs": [],
   "source": [
    "ipInfo = pandas.DataFrame(columns=['ip','hostname','city','region','country','loc','org','postal','timezone'])\n",
    "for ip in netstat.remote_ip:\n",
    "    #print(requests.get(url_str + ip + token_str).text)\n",
    "    data = (json.loads(requests.get(url_str + ip + token_str).text))\n",
    "    s = pandas.Series(data)\n",
    "    ipInfo = ipInfo.append(s, ignore_index = True)"
   ]
  },
  {
   "cell_type": "code",
   "execution_count": null,
   "metadata": {},
   "outputs": [],
   "source": [
    "# Iterate over all running process\n",
    "processes = pandas.DataFrame(columns=['process_name', 'pid'])\n",
    "for proc in psutil.process_iter():\n",
    "    try:\n",
    "        #print(proc.name(), proc.pid)\n",
    "        data = {'process_name':proc.name(), 'pid':proc.pid}\n",
    "        s = pandas.Series(data)\n",
    "        processes = processes.append(s, ignore_index = True)\n",
    "    except (psutil.NoSuchProcess, psutil.AccessDenied, psutil.ZombieProcess):\n",
    "        pass"
   ]
  },
  {
   "cell_type": "code",
   "execution_count": null,
   "metadata": {},
   "outputs": [],
   "source": [
    "mergedf = pandas.merge(netstat, ipInfo.rename(columns={'ip':'remote_ip'}), how='outer')\n",
    "mergedf = pandas.merge(mergedf, processes, how='outer')\n",
    "processConnections = mergedf[mergedf.remote_ip.notnull()]"
   ]
  },
  {
   "cell_type": "code",
   "execution_count": null,
   "metadata": {},
   "outputs": [],
   "source": [
    "googleAPIKey = '' #add google api key here\n",
    "gmaps.configure(api_key=googleAPIKey)"
   ]
  },
  {
   "cell_type": "code",
   "execution_count": null,
   "metadata": {},
   "outputs": [],
   "source": [
    "locList = list(mergedf['loc'].dropna())\n",
    "\n",
    "locations = []\n",
    "for loc in locList:\n",
    "    locations.append(eval(loc))\n",
    "for loc in locations:\n",
    "    for s in loc:\n",
    "        s = float(s)\n"
   ]
  },
  {
   "cell_type": "code",
   "execution_count": null,
   "metadata": {},
   "outputs": [],
   "source": [
    "fig = gmaps.figure()\n",
    "fig.add_layer(gmaps.heatmap_layer(locations))\n",
    "fig"
   ]
  },
  {
   "cell_type": "code",
   "execution_count": null,
   "metadata": {
    "scrolled": true
   },
   "outputs": [],
   "source": [
    "pandas.set_option('display.max_rows', None)\n",
    "processConnections"
   ]
  }
 ],
 "metadata": {
  "kernelspec": {
   "display_name": "Python 3",
   "language": "python",
   "name": "python3"
  },
  "language_info": {
   "codemirror_mode": {
    "name": "ipython",
    "version": 3
   },
   "file_extension": ".py",
   "mimetype": "text/x-python",
   "name": "python",
   "nbconvert_exporter": "python",
   "pygments_lexer": "ipython3",
   "version": "3.7.6"
  }
 },
 "nbformat": 4,
 "nbformat_minor": 4
}
